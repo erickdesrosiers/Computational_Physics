{
  "nbformat": 4,
  "nbformat_minor": 0,
  "metadata": {
    "colab": {
      "provenance": []
    },
    "kernelspec": {
      "name": "python3",
      "display_name": "Python 3"
    },
    "language_info": {
      "name": "python"
    }
  },
  "cells": [
    {
      "cell_type": "markdown",
      "source": [
        "# Práctica 2."
      ],
      "metadata": {
        "id": "BJDg-am7bRPG"
      }
    },
    {
      "cell_type": "markdown",
      "source": [
        "## Diccionarios\n",
        "\n",
        "Escribir un programa que almacene las calificaciones de un semestre en el diccionario {'Electromagnetismo': 10, 'Electrónica': 9, 'Relatividad': 8,'Física Computacional': 10, 'Física Estadística': 9,} y después muestre por pantalla las calificaciones de cada asignatura en el formato *asignatura* como Key y *calificacion* como valor del Key. Al final debe mostrar también el promedio del semestre.\n"
      ],
      "metadata": {
        "id": "RrToz5ofe5jk"
      }
    },
    {
      "cell_type": "code",
      "source": [
        "#Tu código\n",
        "diccionario={'Electromagnetismo':10,'Electrónica': 9, 'Relatividad': 8,'Física Computacional': 10, 'Física Estadística': 9}\n",
        "\n",
        "\n",
        "for i,j in diccionario.items():\n",
        "    print(f\"{i}: {j}\")"
      ],
      "metadata": {
        "id": "Ev1ZnSzUf2nw",
        "outputId": "0a03baaa-6ccb-4464-c677-6542f0b7082e",
        "colab": {
          "base_uri": "https://localhost:8080/"
        }
      },
      "execution_count": null,
      "outputs": [
        {
          "output_type": "stream",
          "name": "stdout",
          "text": [
            "Electromagnetismo: 10\n",
            "Electrónica: 9\n",
            "Relatividad: 8\n",
            "Física Computacional: 10\n",
            "Física Estadística: 9\n"
          ]
        }
      ]
    },
    {
      "cell_type": "code",
      "source": [
        "#calcular el promedio\n",
        "a=0\n",
        "for i in diccionario:\n",
        "  a+=diccionario.get(i)\n",
        "print (\"El promedio es:\",a/len(diccionario))\n",
        "\n",
        "\n"
      ],
      "metadata": {
        "id": "mYCHQucWibza",
        "outputId": "621779f9-3efe-45b4-da12-0672ec245582",
        "colab": {
          "base_uri": "https://localhost:8080/"
        }
      },
      "execution_count": null,
      "outputs": [
        {
          "output_type": "stream",
          "name": "stdout",
          "text": [
            "El promedio es: 9.2\n"
          ]
        }
      ]
    },
    {
      "cell_type": "markdown",
      "source": [
        "## Programa básico de Python\n",
        "\n",
        "Un satélite se encuentra en una órbita circular alrededor de la Tierra, tal que completa un círculo en $T$ segundos, $T$ es el periodo de la órbita:\n",
        "\n",
        "i) Muestra que la altitud $h$ sobre la superficie de la Tierra será:\n",
        "$$\n",
        "h=\\left( \\frac{GMT^2}{4\\pi^2} \\right)^{\\tfrac{1}{3}} -R\n",
        "$$\n",
        "donde $G$ es la constante de gravitación universal con valor $G=6.67\\times10^{-11}$ m$^{3}$kg$^{-1}$s$^{-2}$, $M$ es la masa de la Tierra $M=5.97\\times10^{24}$kg y $R$ es el radio de la Tierra $R=6371$ kg.\n",
        "\n",
        "(ii) Escribe un programa que le pregunte al usuario el periodo que desea tenga su satélite girando alrededor de la Tierra y el programa le regrese la altitud, en metros, que deberá tener.\n",
        "\n",
        "(iii) ¿Qué altitud deberá tener el satélite su queremos que orbite la Tierra con un periodo de un día (órbita geosíncrona), 90 minutos, 45 minutos? ¿Qué observas?\n",
        "\n",
        "(iv) En práctica, una órbita geosíncrona es aquella cuya órbita tiene un periodo de un día sideral, que es de 23.93 horas, no de 24 horas. ¿Por qué es esto? ¿Cuál será la diferencia en altitud entre $T$= 23.93 horas y $T$= 24 horas.\n"
      ],
      "metadata": {
        "id": "IDU0tGLNf5Up"
      }
    },
    {
      "cell_type": "code",
      "source": [
        "# Tu código\n",
        "\n",
        "#ii)\n",
        "from math import *\n",
        "G= 6.67e-11\n",
        "M=5.97e24\n",
        "R=6371e3\n",
        "h=0\n",
        "\n",
        "\n",
        "def h(T):\n",
        "  t=T*3600\n",
        "  h= -R+((G*M*(t**2))/(4*(pi)**2))**(1/3)\n",
        "  return h\n",
        "\n",
        "T=float(input(\"ingresa el periodo en horas: \"))\n",
        "print('La altura es:',h(T))\n",
        "\n"
      ],
      "metadata": {
        "id": "aPZIzRpjgHze",
        "outputId": "93ac571f-c9e9-4543-d442-b548c739adfa",
        "colab": {
          "base_uri": "https://localhost:8080/"
        }
      },
      "execution_count": null,
      "outputs": [
        {
          "output_type": "stream",
          "name": "stdout",
          "text": [
            "ingresa el periodo en horas: 24\n",
            "La altura es: 35855910.176174976\n"
          ]
        }
      ]
    },
    {
      "cell_type": "code",
      "source": [
        "# iii) tiempo 90 minutos/60 minutos=1.5 h\n",
        "h(1.5)\n"
      ],
      "metadata": {
        "id": "K5NQX6Y8oJqL",
        "outputId": "ab10e00d-344d-4260-cca3-3004fa98303b",
        "colab": {
          "base_uri": "https://localhost:8080/"
        }
      },
      "execution_count": null,
      "outputs": [
        {
          "output_type": "execute_result",
          "data": {
            "text/plain": [
              "279321.6253728606"
            ]
          },
          "metadata": {},
          "execution_count": 28
        }
      ]
    },
    {
      "cell_type": "code",
      "source": [
        "# tiempo 45 minutos/60 minutos=.75 h\n",
        "h(.75)"
      ],
      "metadata": {
        "id": "WbwLpiitsuU-",
        "outputId": "1891d3cd-78c1-489f-a4d4-bc5b5a74f184",
        "colab": {
          "base_uri": "https://localhost:8080/"
        }
      },
      "execution_count": null,
      "outputs": [
        {
          "output_type": "execute_result",
          "data": {
            "text/plain": [
              "-2181559.8978108233"
            ]
          },
          "metadata": {},
          "execution_count": 29
        }
      ]
    },
    {
      "cell_type": "code",
      "source": [
        "#Tiempo 24 horas\n",
        "h(24)\n"
      ],
      "metadata": {
        "id": "v0NNR64lyELn",
        "outputId": "8e4a75a1-64bb-41fb-d1a3-05d9b2452ce6",
        "colab": {
          "base_uri": "https://localhost:8080/"
        }
      },
      "execution_count": null,
      "outputs": [
        {
          "output_type": "execute_result",
          "data": {
            "text/plain": [
              "35855.91017617498"
            ]
          },
          "metadata": {},
          "execution_count": 30
        }
      ]
    },
    {
      "cell_type": "code",
      "source": [
        "#Tiempo 23.93 horas\n",
        "h(23.93)"
      ],
      "metadata": {
        "id": "3UgKvQZ7yilI",
        "outputId": "c702faa1-89e7-4dbe-ee76-30d3bcd38df6",
        "colab": {
          "base_uri": "https://localhost:8080/"
        }
      },
      "execution_count": null,
      "outputs": [
        {
          "output_type": "execute_result",
          "data": {
            "text/plain": [
              "35773762.329895645"
            ]
          },
          "metadata": {},
          "execution_count": 16
        }
      ]
    },
    {
      "cell_type": "code",
      "source": [
        "#Calculo de la diferencia\n",
        "diferencia= h(24)-h(23.93)\n",
        "print(diferencia)"
      ],
      "metadata": {
        "id": "lzoMC-sMyJ2g",
        "outputId": "2908cff8-6df0-447a-c072-9368af62d710",
        "colab": {
          "base_uri": "https://localhost:8080/"
        }
      },
      "execution_count": null,
      "outputs": [
        {
          "output_type": "stream",
          "name": "stdout",
          "text": [
            "82147.84627933055\n"
          ]
        }
      ]
    },
    {
      "cell_type": "markdown",
      "source": [
        "## Matriz de Vandermonde\n",
        "\n",
        "Considera la matriz de Vandermonde, la cual se define como\n",
        "\n",
        "$$\n",
        "A_{ij} = v_i^{j-1} \\;\\;\\; i=0,1,2, \\cdots, n; \\;\\;\\; j=0,1,2,\\cdots, n\n",
        "$$\n",
        "\n",
        "Crea una función llamada *Vandermonde(v)* que reciba un vector $\\vec{v}$ y regrese la matriz A definida arriba.\n"
      ],
      "metadata": {
        "id": "Y26Q1FUagshj"
      }
    },
    {
      "cell_type": "code",
      "source": [
        "# Tu código\n",
        "import numpy as np\n",
        "def Vandermonde(v):\n",
        "  n = len(v)\n",
        "  A = np.zeros([n,n], float)\n",
        "  for i in range(n):\n",
        "    for j in range(n):\n",
        "      A[i,j] = v[j] ** i\n",
        "  return A\n",
        "\n"
      ],
      "metadata": {
        "id": "gjTgWWNlhP2G"
      },
      "execution_count": null,
      "outputs": []
    },
    {
      "cell_type": "code",
      "source": [
        "v = [1, 2, 3, 4]\n",
        "Vandermonde(v)\n"
      ],
      "metadata": {
        "id": "bwjkG1Qaz55M",
        "outputId": "b0d53920-f6a6-4207-95ca-63447f950080",
        "colab": {
          "base_uri": "https://localhost:8080/"
        }
      },
      "execution_count": null,
      "outputs": [
        {
          "output_type": "execute_result",
          "data": {
            "text/plain": [
              "array([[ 1.,  1.,  1.,  1.],\n",
              "       [ 1.,  2.,  3.,  4.],\n",
              "       [ 1.,  4.,  9., 16.],\n",
              "       [ 1.,  8., 27., 64.]])"
            ]
          },
          "metadata": {},
          "execution_count": 21
        }
      ]
    },
    {
      "cell_type": "markdown",
      "source": [
        "## Matriz tridiagonal\n",
        "\n",
        "Crea una función llamada tridiagonal que reciba un vector y regrese la matriz cuadrada\n",
        "\n",
        "$$\n",
        "A=\n",
        "\\begin{bmatrix}\n",
        "v_{0} & v_{1}^2 & 0 &  0 & 0 & \\dots  & 0 \\\\\n",
        "v_{1}^3 & v_{1} & v_{2}^2 &  0 & 0 & \\dots  & 0 \\\\\n",
        "0 & v_{2}^3 & v_2 &  v_{3}^2 & 0 & \\dots  & 0 \\\\\n",
        "0 & 0 & v_3^2 &  v_{3} & v_4^2 & \\dots  & 0 \\\\\n",
        "\\dots & \\dots  & \\dots & \\dots & \\dots & \\dots & \\dots\\\\\n",
        "0 & 0 & 0 & \\dots & v_{n-1}^3 & v_{n-1}  & v_{n}^2 \\\\\n",
        "0 & 0 & 0 & 0 & \\dots & v_{n}^3  & v_{n} \\\\\n",
        "\\end{bmatrix}\n",
        "$$\n",
        "\n",
        "\n",
        "Prueba con varios vectores e incluye estos vectores en tu código.\n",
        "\n"
      ],
      "metadata": {
        "id": "IQfZteBmhV9g"
      }
    },
    {
      "cell_type": "code",
      "source": [
        "#Tu código\n",
        "\n",
        "\n",
        "import numpy as np\n",
        "\n",
        "def tridiagonal(v):\n",
        "\n",
        "    n = len(v)\n",
        "    A = np.zeros([n, n], int)\n",
        "    for i in range(n):\n",
        "        for j in range(n):\n",
        "            if i == j:\n",
        "                A[i, j] = v[i]\n",
        "            elif i == j + 1:\n",
        "                A[i, j] = v[i] ** 3\n",
        "            elif i == j-1:\n",
        "                A[i, j] = v[i+1] ** 2\n",
        "            else:\n",
        "                A[i, j] = 0\n",
        "    return A\n",
        "\n",
        "\n",
        "\n",
        "\n"
      ],
      "metadata": {
        "id": "qWW-I1EliqyZ"
      },
      "execution_count": null,
      "outputs": []
    },
    {
      "cell_type": "code",
      "source": [
        "tridiagonal([1,2,3,4])"
      ],
      "metadata": {
        "colab": {
          "base_uri": "https://localhost:8080/"
        },
        "id": "ywpWB7jZrc2b",
        "outputId": "1df7c6f8-cf85-4eb8-9ee7-bd68d2a37625"
      },
      "execution_count": null,
      "outputs": [
        {
          "output_type": "execute_result",
          "data": {
            "text/plain": [
              "array([[ 1,  4,  0,  0],\n",
              "       [ 8,  2,  9,  0],\n",
              "       [ 0, 27,  3, 16],\n",
              "       [ 0,  0, 64,  4]])"
            ]
          },
          "metadata": {},
          "execution_count": 127
        }
      ]
    },
    {
      "cell_type": "markdown",
      "source": [
        "## Matriz de Pauli\n",
        "\n",
        "Las matrices de Pauli son muy populares en Mecánica Cuántica. Se sabe que para una partícula con espín $\\tfrac{1}{2}$, como es el electrón, las matrices de Pauli tienen la siguiente forma:\n",
        "\n",
        "\\begin{equation*}\n",
        "\\sigma_x=\n",
        "\\begin{bmatrix}\n",
        "0&1\\\\\n",
        "1&0\n",
        "\\end{bmatrix} \\hspace{0.5cm}\n",
        "\\sigma_y=\\begin{bmatrix}\n",
        "0&-i\\\\\n",
        "i&0\n",
        "\\end{bmatrix} \\hspace{0.5cm}\n",
        "\\sigma_z=\\begin{bmatrix}\n",
        "1&0\\\\\n",
        "0&-1\n",
        "\\end{bmatrix}\n",
        "\\end{equation*}\n",
        "\n",
        "Haz una función llamada *Pauli* que reciba el eje y regrese la matriz de Pauli correspondiente, es decir, escribas *mx=Pauli('x')* y regrese $\\sigma_x$.\n"
      ],
      "metadata": {
        "id": "671cFc1gitbD"
      }
    },
    {
      "cell_type": "code",
      "source": [
        "# Tu código\n",
        "\n",
        "def Pauli(n):\n",
        "  if n=='x':\n",
        "    print(np.array([[0,1],[1,0]]))\n",
        "  elif n=='y':\n",
        "    print(np.array([[0, complex(0, -1)], [complex(0,1), 0]]))\n",
        "  elif n=='z':\n",
        "    print(np.array([[1,0],[0,-1]]))\n",
        "  else:\n",
        "    print('Digita una coordenada espacial correcta.')"
      ],
      "metadata": {
        "id": "LLBHcEZbi5hQ"
      },
      "execution_count": null,
      "outputs": []
    },
    {
      "cell_type": "code",
      "source": [
        "#Prueba del código\n",
        "Pauli('x')\n",
        "Pauli('y')\n",
        "Pauli('z')\n",
        "Pauli(2)"
      ],
      "metadata": {
        "colab": {
          "base_uri": "https://localhost:8080/"
        },
        "id": "-UcaICgCRwQy",
        "outputId": "da690b43-3bfc-469e-9c9e-143a9564d76a"
      },
      "execution_count": null,
      "outputs": [
        {
          "output_type": "stream",
          "name": "stdout",
          "text": [
            "[[0 1]\n",
            " [1 0]]\n",
            "[[0.+0.j 0.-1.j]\n",
            " [0.+1.j 0.+0.j]]\n",
            "[[ 1  0]\n",
            " [ 0 -1]]\n",
            "Digita una coordenada espacial correcta.\n"
          ]
        }
      ]
    },
    {
      "cell_type": "markdown",
      "source": [
        "## Propiedades de las matrices de Pauli\n",
        "\n",
        "Haremos 3 funciones para comprobar las propiedades más importantes de las matrices de Pauli.\n",
        "\n",
        "* $\\sigma_x^2=\\sigma_y^2=\\sigma_z^2=\\begin{bmatrix}\n",
        "1&0\\\\\n",
        "0&1\n",
        "\\end{bmatrix}$.\n",
        "\n",
        "Haz una función llamada *matriz\\_al\\_cuadrado*, que reciba una matriz y regrese su matriz al cuadrado. Ya que tengas tu función, prueba con las 3 matrices de Pauli, generadas en el problema anterior. Hint: Puedes reciclar el código de multiplicación de matrices.\n",
        "\n",
        "* $Tr(\\sigma_i)=0$.\n",
        "\n",
        "Haz una función llamada traza que reciba una matriz y regrese su traza. Recuerda que la traza de una matriz cuadrada es la suma de los elementos de la diagonal.\n",
        "\n",
        "* $det(\\sigma_i)=-1.$\n",
        "\n",
        "Haz una función que calcule el determinante de una matriz. Hint: Puedes usar el comando *numpy.linalg.det(M)*, importando *import numpy.linalg* para comprobar el determinante obtenido por tu código."
      ],
      "metadata": {
        "id": "EiA2CEkki8ds"
      }
    },
    {
      "cell_type": "code",
      "source": [
        "# Tu código\n",
        "def matriz_al_cuadrado(n):\n",
        "  if n=='x':\n",
        "    sigma_x=np.array([[0,1],[1,0]])\n",
        "    sigmaxx=np.dot(sigma_x,sigma_x)\n",
        "    print('La matriz al cuadrado es:',sigmaxx)\n",
        "  elif n=='y':\n",
        "    sigma_y=np.array([[0, complex(0, -1)], [complex(0,1), 0]])\n",
        "    sigmayy=np.dot(sigma_y,sigma_y)\n",
        "    print('La matriz al cuadrado es:',sigmayy)\n",
        "  elif n=='z':\n",
        "    sigma_z=np.array([[1,0],[0,-1]])\n",
        "    sigmazz=np.dot(sigma_z,sigma_z)\n",
        "    print('La matriz al cuadrado es:',sigmazz)\n",
        "  else:\n",
        "    print('Digita una coordenada espacial correcta.')\n"
      ],
      "metadata": {
        "id": "mrKX4wDYjkPx"
      },
      "execution_count": null,
      "outputs": []
    },
    {
      "cell_type": "code",
      "source": [
        "matriz_al_cuadrado('z')"
      ],
      "metadata": {
        "colab": {
          "base_uri": "https://localhost:8080/"
        },
        "id": "rwFWDaVlWWRF",
        "outputId": "03f7aa1c-8056-480b-83ca-5d2910861517"
      },
      "execution_count": null,
      "outputs": [
        {
          "output_type": "stream",
          "name": "stdout",
          "text": [
            "La matriz al cuadrado es: [[1 0]\n",
            " [0 1]]\n"
          ]
        }
      ]
    },
    {
      "cell_type": "code",
      "source": [
        "#Función traza\n",
        "def traza(A):\n",
        "    if len(A) != len(A[0]):\n",
        "        print('No es posible calcular la traza de la matriz')\n",
        "    else:\n",
        "        Traza = 0\n",
        "        for i in range(len(A)):\n",
        "            for j in range(len(A[0])):\n",
        "                if i == j:\n",
        "                    Traza += A[i][j]\n",
        "        return Traza\n",
        "\n",
        "\n"
      ],
      "metadata": {
        "id": "vmN0gsVqczzr"
      },
      "execution_count": null,
      "outputs": []
    },
    {
      "cell_type": "code",
      "source": [
        "traza([[11,0,2],[0,-1,1],[1,2,3]])"
      ],
      "metadata": {
        "colab": {
          "base_uri": "https://localhost:8080/"
        },
        "id": "6TawQs4JZnss",
        "outputId": "54b6f50e-0e6c-4a9d-e697-7ea300951901"
      },
      "execution_count": null,
      "outputs": [
        {
          "output_type": "execute_result",
          "data": {
            "text/plain": [
              "13"
            ]
          },
          "metadata": {},
          "execution_count": 102
        }
      ]
    },
    {
      "cell_type": "code",
      "source": [
        "traza([[11,0,2],[0,-2]])"
      ],
      "metadata": {
        "colab": {
          "base_uri": "https://localhost:8080/"
        },
        "id": "D17y1GaBeKR1",
        "outputId": "fc6ee570-a02b-4a1c-a2ed-4de73a98b9dd"
      },
      "execution_count": null,
      "outputs": [
        {
          "output_type": "stream",
          "name": "stdout",
          "text": [
            "No es posible calcular la traza de la matriz\n"
          ]
        }
      ]
    },
    {
      "cell_type": "code",
      "source": [
        "# Determinante de una matriz\n",
        "#El deter\n",
        "\n",
        "def determinante_matriz(A):\n",
        "\n",
        "    matriz = np.array(A)\n",
        "    determinante = np.linalg.det(matriz)\n",
        "\n",
        "    return determinante"
      ],
      "metadata": {
        "id": "lIAARLoxepx0"
      },
      "execution_count": null,
      "outputs": []
    },
    {
      "cell_type": "code",
      "source": [
        "determinante_matriz([[11,0,1],[0,2,3],[1,2,3]])"
      ],
      "metadata": {
        "colab": {
          "base_uri": "https://localhost:8080/"
        },
        "id": "Skvo000tiqLG",
        "outputId": "f67e2c3c-7578-44db-f6f9-b2d48860568a"
      },
      "execution_count": null,
      "outputs": [
        {
          "output_type": "execute_result",
          "data": {
            "text/plain": [
              "-1.9999999999999984"
            ]
          },
          "metadata": {},
          "execution_count": 135
        }
      ]
    },
    {
      "cell_type": "code",
      "source": [
        "def determinante(matrix):\n",
        "\n",
        "    # Verifica que la matriz sea cuadrada\n",
        "    n = len(matrix)\n",
        "    if n == 0:\n",
        "        raise ValueError(\"La matriz está vacía\")\n",
        "    for r in matrix:\n",
        "        if len(r) != n:\n",
        "            raise ValueError(\"La matriz no es cuadrada\")\n",
        "\n",
        "\n",
        "    if n == 1:\n",
        "        return matrix[0][0]\n",
        "\n",
        "\n",
        "    det = 0\n",
        "    for j in range(n):\n",
        "\n",
        "        cofactor = matrix[0][j] * determinante([r[:j] + r[j+1:] for r in matrix[1:]])\n",
        "\n",
        "        det += (-1) ** j * cofactor\n",
        "\n",
        "    return det\n",
        "\n",
        "\n"
      ],
      "metadata": {
        "id": "UgkEua3Fitzu"
      },
      "execution_count": null,
      "outputs": []
    },
    {
      "cell_type": "code",
      "source": [
        "determinante([[11,0,4],[0,2,3],[1,2,3]])"
      ],
      "metadata": {
        "colab": {
          "base_uri": "https://localhost:8080/"
        },
        "id": "7FIL0Sj9EFed",
        "outputId": "b0af1716-af5c-4c84-f14e-16071ad52e90"
      },
      "execution_count": null,
      "outputs": [
        {
          "output_type": "execute_result",
          "data": {
            "text/plain": [
              "-8"
            ]
          },
          "metadata": {},
          "execution_count": 138
        }
      ]
    },
    {
      "cell_type": "code",
      "source": [],
      "metadata": {
        "id": "bMVQPC4rENdF"
      },
      "execution_count": null,
      "outputs": []
    }
  ]
}
